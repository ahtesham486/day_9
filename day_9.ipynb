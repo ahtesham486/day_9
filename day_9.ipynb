{
 "cells": [
  {
   "cell_type": "markdown",
   "metadata": {},
   "source": [
    "# list comprehension in python"
   ]
  },
  {
   "cell_type": "code",
   "execution_count": 2,
   "metadata": {},
   "outputs": [],
   "source": [
    "import math\n",
    "from math import*"
   ]
  },
  {
   "cell_type": "code",
   "execution_count": 5,
   "metadata": {},
   "outputs": [
    {
     "name": "stdout",
     "output_type": "stream",
     "text": [
      "[0, 1, 8, 27, 64]\n",
      "[0, 1, 8, 27, 64]\n",
      "[0.0, 1.0, 8.0, 27.0, 64.0]\n"
     ]
    }
   ],
   "source": [
    "# using for loop\n",
    "\n",
    "cubic_nums =[]\n",
    "for i in range(5):\n",
    "    i**=3\n",
    "    cubic_nums.append(i)\n",
    "print(cubic_nums)\n",
    "\n",
    "# Using list comprehension\n",
    "cubic_nums = [i**3 for i in range(5)]\n",
    "print(cubic_nums)\n",
    "# Using list comprehension\n",
    "cubic_nums=[math.pow(i,3) for i in range(5)]\n",
    "print(cubic_nums)\n",
    "\n"
   ]
  },
  {
   "cell_type": "code",
   "execution_count": 7,
   "metadata": {},
   "outputs": [
    {
     "name": "stdout",
     "output_type": "stream",
     "text": [
      "[0, 2, 4, 6, 8, 10, 12, 14, 16, 18, 20]\n"
     ]
    }
   ],
   "source": [
    "# using for loop\n",
    "# using loop comprehension \n",
    "even_nums =[ i for i in range(21)  if i%2==0]\n",
    "print(even_nums)"
   ]
  },
  {
   "cell_type": "code",
   "execution_count": 9,
   "metadata": {},
   "outputs": [
    {
     "name": "stdout",
     "output_type": "stream",
     "text": [
      "the entered number is 10\n",
      "[10, 20, 40, 80, 160, 320, 640, 1280, 2560, 5120, 10240, 20480]\n"
     ]
    }
   ],
   "source": [
    "# using for loop\n",
    "n = int(input(\"enter a number \"))\n",
    "print(f\"the entered number is {n}\")\n",
    "hdbuh=[n*(2**i) for i in range(12)]\n",
    "print(hdbuh)\n"
   ]
  },
  {
   "cell_type": "code",
   "execution_count": 11,
   "metadata": {},
   "outputs": [
    {
     "name": "stdout",
     "output_type": "stream",
     "text": [
      "[0, 3, 6, 9, 12, 15, 18, 21, 24, 27]\n"
     ]
    }
   ],
   "source": [
    "# Create a list of multiplies of three from 0 to 30\n",
    "# Using for loop\n",
    "\n",
    "nlis=[i for i in range(30) if i%3==0]\n",
    "print(nlis)"
   ]
  },
  {
   "cell_type": "code",
   "execution_count": 13,
   "metadata": {},
   "outputs": [
    {
     "name": "stdout",
     "output_type": "stream",
     "text": [
      "['p', 'y', 't', 'h', 'o', 'n', ' ', 'i', 's', ' ', 'p', 'r', 'o', 'g', 'r', 'a', 'm', 'm', 'i', 'n', 'g', ' ', 'l', 'a', 'n', 'g', 'u', 'a', 'g', 'e']\n"
     ]
    }
   ],
   "source": [
    "# Using for loop\n",
    "# Using list comprehension\n",
    "\n",
    "text=[i for i in \"python is programming language\"]\n",
    "print(text)"
   ]
  },
  {
   "cell_type": "code",
   "execution_count": 16,
   "metadata": {},
   "outputs": [
    {
     "name": "stdout",
     "output_type": "stream",
     "text": [
      "[1.7309999999999999, 5187, 8.154, 9.42]\n"
     ]
    }
   ],
   "source": [
    "#Using for loop\n",
    "# Using list comprehension\n",
    "\n",
    "special_nums =(0.577 ,1729,2.718,3.14)\n",
    "three_times =[x*3 for x in special_nums]\n",
    "print(three_times)"
   ]
  },
  {
   "cell_type": "code",
   "execution_count": 18,
   "metadata": {},
   "outputs": [
    {
     "name": "stdout",
     "output_type": "stream",
     "text": [
      "['Python', 'JavaScript']\n"
     ]
    }
   ],
   "source": [
    "# Using for loop\n",
    "languages = ['Python', 'Java', 'JavaScript', 'C', 'C++', 'PHP']\n",
    "#using list comprehension\n",
    "lang =[i for i in languages if \"t\" in i]\n",
    "print(lang)"
   ]
  },
  {
   "cell_type": "code",
   "execution_count": 19,
   "metadata": {},
   "outputs": [
    {
     "name": "stdout",
     "output_type": "stream",
     "text": [
      "['JavaScript']\n"
     ]
    }
   ],
   "source": [
    "languages = ['Python', 'Java', 'JavaScript', 'C', 'C++', 'PHP']\n",
    "# Using for loop\n",
    "#using list comprehension\n",
    "lang =[i for i in languages if \"c\" in i]\n",
    "print(lang)"
   ]
  },
  {
   "cell_type": "code",
   "execution_count": 20,
   "metadata": {},
   "outputs": [
    {
     "name": "stdout",
     "output_type": "stream",
     "text": [
      "[0.577, 1.618, 2.718, 3.14]\n"
     ]
    }
   ],
   "source": [
    "special_nums = [0.577, 1.618, 2.718, 3.14, 6, 28, 37, 1729]\n",
    "# using for loop \n",
    "new_list=[i for i in special_nums if i<5]\n",
    "print(new_list)"
   ]
  },
  {
   "cell_type": "code",
   "execution_count": 22,
   "metadata": {},
   "outputs": [
    {
     "name": "stdout",
     "output_type": "stream",
     "text": [
      "['python', 'python', 'python', 'python', 'python']\n"
     ]
    }
   ],
   "source": [
    "languages = ['Java', 'JavaScript', 'C', 'C++', 'PHP']\n",
    "# using  for loop \n",
    "lang_lis=[\"python\" for  i in languages]\n",
    "print(lang_lis)"
   ]
  },
  {
   "cell_type": "code",
   "execution_count": 24,
   "metadata": {},
   "outputs": [
    {
     "name": "stdout",
     "output_type": "stream",
     "text": [
      "['Java', 'JavaScript', 'C', 'C++', 'PHP']\n"
     ]
    }
   ],
   "source": [
    "languages = ['Java', 'JavaScript', 'C', 'C++', 'PHP']\n",
    "# Using for loop\n",
    "\n",
    "lang_lis=[i if i!= \"java\" else \"python\" for i in languages]\n",
    "\n",
    "print(lang_lis)"
   ]
  },
  {
   "cell_type": "code",
   "execution_count": 26,
   "metadata": {},
   "outputs": [
    {
     "name": "stdout",
     "output_type": "stream",
     "text": [
      "['PYTHON', 'JAVA', 'JAVASCRIPT', 'C', 'C++', 'PHP']\n"
     ]
    }
   ],
   "source": [
    "languages = ['Python', 'Java', 'JavaScript', 'C', 'C++', 'PHP']\n",
    "# Using for loop\n",
    "lang_lis=[i.upper() for i in languages]\n",
    "print(lang_lis)"
   ]
  },
  {
   "cell_type": "code",
   "execution_count": 27,
   "metadata": {},
   "outputs": [
    {
     "name": "stdout",
     "output_type": "stream",
     "text": [
      "['P', 'y', 't', 'h', 'o', 'n']\n",
      "['p', 'y', 't', 'h', 'o', 'n']\n"
     ]
    }
   ],
   "source": [
    "# Using list comprehension\n",
    "python = [i for i in 'Python']\n",
    "print(python)\n",
    "\n",
    "# Using lambda function\n",
    "python=list(map(lambda i:i,\"python\"))\n",
    "print(python)"
   ]
  },
  {
   "cell_type": "code",
   "execution_count": 28,
   "metadata": {},
   "outputs": [
    {
     "name": "stdout",
     "output_type": "stream",
     "text": [
      "the list comprehension: ['even', 'odd', 'even', 'odd', 'even', 'odd', 'even', 'odd', 'even', 'odd', 'even']\n"
     ]
    }
   ],
   "source": [
    "# Using list comprehension\n",
    "numbers=[\"even\" if i%2==0 else \"odd\" for i in range(11)]\n",
    "print(f\"the list comprehension: {numbers}\")"
   ]
  },
  {
   "cell_type": "code",
   "execution_count": 30,
   "metadata": {},
   "outputs": [
    {
     "name": "stdout",
     "output_type": "stream",
     "text": [
      "[[0.577, 6], [1.618, 28], [2.718, 37], [3.14, 1729]]\n"
     ]
    }
   ],
   "source": [
    "matrix_list = [[0.577, 1.618, 2.718, 3.14], [6, 28, 37, 1729]]\n",
    "# Using nested for loop\n",
    "empty_list=[[row[i] for row in matrix_list] for i in range(4)]\n",
    "print(empty_list)"
   ]
  },
  {
   "cell_type": "code",
   "execution_count": 31,
   "metadata": {},
   "outputs": [
    {
     "name": "stdout",
     "output_type": "stream",
     "text": [
      "[[0, 1, 2, 3, 4], [0, 1, 2, 3, 4], [0, 1, 2, 3, 4], [0, 1, 2, 3, 4], [0, 1, 2, 3, 4]]\n"
     ]
    }
   ],
   "source": [
    "# Using nested for loop\n",
    "# Using nested for loop\n",
    "empty_matrix = [[j for j in range(5)] for i in range(5)]\n",
    "print(empty_matrix)"
   ]
  },
  {
   "cell_type": "code",
   "execution_count": 32,
   "metadata": {},
   "outputs": [
    {
     "name": "stdout",
     "output_type": "stream",
     "text": [
      "[[0.577, 2.718, 6], [1.618, 3.14, 28], [0, 1, 28]]\n"
     ]
    }
   ],
   "source": [
    "# Transpose of 2D matrix\n",
    "matrix = [[0.577, 1.618, 0],\n",
    " [2.718, 3.14, 1],\n",
    " [6, 28, 28]]\n",
    "transpose_matrix = [[i[j] for i in matrix] for j in range(len(matrix))]\n",
    "print(transpose_matrix)\n"
   ]
  },
  {
   "cell_type": "code",
   "execution_count": null,
   "metadata": {},
   "outputs": [],
   "source": []
  },
  {
   "cell_type": "code",
   "execution_count": null,
   "metadata": {},
   "outputs": [],
   "source": []
  },
  {
   "cell_type": "code",
   "execution_count": null,
   "metadata": {},
   "outputs": [],
   "source": []
  },
  {
   "cell_type": "code",
   "execution_count": null,
   "metadata": {},
   "outputs": [],
   "source": []
  },
  {
   "cell_type": "code",
   "execution_count": null,
   "metadata": {},
   "outputs": [],
   "source": []
  },
  {
   "cell_type": "code",
   "execution_count": null,
   "metadata": {},
   "outputs": [],
   "source": []
  },
  {
   "cell_type": "code",
   "execution_count": null,
   "metadata": {},
   "outputs": [],
   "source": []
  },
  {
   "cell_type": "code",
   "execution_count": null,
   "metadata": {},
   "outputs": [],
   "source": []
  },
  {
   "cell_type": "code",
   "execution_count": null,
   "metadata": {},
   "outputs": [],
   "source": []
  },
  {
   "cell_type": "code",
   "execution_count": null,
   "metadata": {},
   "outputs": [],
   "source": []
  },
  {
   "cell_type": "code",
   "execution_count": null,
   "metadata": {},
   "outputs": [],
   "source": []
  },
  {
   "cell_type": "code",
   "execution_count": null,
   "metadata": {},
   "outputs": [],
   "source": []
  },
  {
   "cell_type": "code",
   "execution_count": null,
   "metadata": {},
   "outputs": [],
   "source": []
  },
  {
   "cell_type": "code",
   "execution_count": null,
   "metadata": {},
   "outputs": [],
   "source": []
  },
  {
   "cell_type": "code",
   "execution_count": null,
   "metadata": {},
   "outputs": [],
   "source": []
  },
  {
   "cell_type": "code",
   "execution_count": null,
   "metadata": {},
   "outputs": [],
   "source": []
  },
  {
   "cell_type": "code",
   "execution_count": null,
   "metadata": {},
   "outputs": [],
   "source": []
  },
  {
   "cell_type": "code",
   "execution_count": null,
   "metadata": {},
   "outputs": [],
   "source": []
  },
  {
   "cell_type": "code",
   "execution_count": null,
   "metadata": {},
   "outputs": [],
   "source": []
  },
  {
   "cell_type": "code",
   "execution_count": null,
   "metadata": {},
   "outputs": [],
   "source": []
  },
  {
   "cell_type": "code",
   "execution_count": null,
   "metadata": {},
   "outputs": [],
   "source": []
  },
  {
   "cell_type": "code",
   "execution_count": null,
   "metadata": {},
   "outputs": [],
   "source": []
  },
  {
   "cell_type": "code",
   "execution_count": null,
   "metadata": {},
   "outputs": [],
   "source": []
  },
  {
   "cell_type": "code",
   "execution_count": null,
   "metadata": {},
   "outputs": [],
   "source": []
  },
  {
   "cell_type": "code",
   "execution_count": null,
   "metadata": {},
   "outputs": [],
   "source": []
  },
  {
   "cell_type": "code",
   "execution_count": null,
   "metadata": {},
   "outputs": [],
   "source": []
  },
  {
   "cell_type": "code",
   "execution_count": null,
   "metadata": {},
   "outputs": [],
   "source": []
  },
  {
   "cell_type": "code",
   "execution_count": null,
   "metadata": {},
   "outputs": [],
   "source": []
  },
  {
   "cell_type": "code",
   "execution_count": null,
   "metadata": {},
   "outputs": [],
   "source": []
  },
  {
   "cell_type": "code",
   "execution_count": null,
   "metadata": {},
   "outputs": [],
   "source": []
  },
  {
   "cell_type": "code",
   "execution_count": null,
   "metadata": {},
   "outputs": [],
   "source": []
  },
  {
   "cell_type": "code",
   "execution_count": null,
   "metadata": {},
   "outputs": [],
   "source": []
  },
  {
   "cell_type": "code",
   "execution_count": null,
   "metadata": {},
   "outputs": [],
   "source": []
  },
  {
   "cell_type": "code",
   "execution_count": null,
   "metadata": {},
   "outputs": [],
   "source": []
  },
  {
   "cell_type": "code",
   "execution_count": null,
   "metadata": {},
   "outputs": [],
   "source": []
  },
  {
   "cell_type": "code",
   "execution_count": null,
   "metadata": {},
   "outputs": [],
   "source": []
  },
  {
   "cell_type": "code",
   "execution_count": null,
   "metadata": {},
   "outputs": [],
   "source": []
  },
  {
   "cell_type": "code",
   "execution_count": null,
   "metadata": {},
   "outputs": [],
   "source": []
  },
  {
   "cell_type": "code",
   "execution_count": null,
   "metadata": {},
   "outputs": [],
   "source": []
  },
  {
   "cell_type": "code",
   "execution_count": null,
   "metadata": {},
   "outputs": [],
   "source": []
  },
  {
   "cell_type": "code",
   "execution_count": null,
   "metadata": {},
   "outputs": [],
   "source": []
  },
  {
   "cell_type": "code",
   "execution_count": null,
   "metadata": {},
   "outputs": [],
   "source": []
  },
  {
   "cell_type": "code",
   "execution_count": null,
   "metadata": {},
   "outputs": [],
   "source": []
  },
  {
   "cell_type": "code",
   "execution_count": null,
   "metadata": {},
   "outputs": [],
   "source": []
  },
  {
   "cell_type": "code",
   "execution_count": null,
   "metadata": {},
   "outputs": [],
   "source": []
  },
  {
   "cell_type": "code",
   "execution_count": null,
   "metadata": {},
   "outputs": [],
   "source": []
  },
  {
   "cell_type": "code",
   "execution_count": null,
   "metadata": {},
   "outputs": [],
   "source": []
  },
  {
   "cell_type": "code",
   "execution_count": null,
   "metadata": {},
   "outputs": [],
   "source": []
  },
  {
   "cell_type": "code",
   "execution_count": null,
   "metadata": {},
   "outputs": [],
   "source": []
  }
 ],
 "metadata": {
  "kernelspec": {
   "display_name": "Python 3",
   "language": "python",
   "name": "python3"
  },
  "language_info": {
   "codemirror_mode": {
    "name": "ipython",
    "version": 3
   },
   "file_extension": ".py",
   "mimetype": "text/x-python",
   "name": "python",
   "nbconvert_exporter": "python",
   "pygments_lexer": "ipython3",
   "version": "3.11.6"
  },
  "orig_nbformat": 4
 },
 "nbformat": 4,
 "nbformat_minor": 2
}
